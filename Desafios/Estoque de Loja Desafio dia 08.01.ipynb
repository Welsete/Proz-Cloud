{
 "cells": [
  {
   "cell_type": "code",
   "execution_count": 3,
   "metadata": {},
   "outputs": [
    {
     "name": "stdout",
     "output_type": "stream",
     "text": [
      "-----------------------------------------------------------------------------\n",
      "--------------Bem Vindo ao controle de estoque da Loja de Games--------------\n",
      "-----------------------------------------------------------------------------\n",
      "\n",
      "{0} God of War\n",
      "{1} Dragon Ball\n",
      "{2} GTA\n",
      "{3} Street Fighter\n",
      "{4} Mortal Kombat\n",
      "Esses são todos os itens em estoque.\n",
      "Elden Ring Adicionado ao estoque!\n",
      "Voltando ao menu!\n",
      "{0} God of War\n",
      "{1} Dragon Ball\n",
      "{2} GTA\n",
      "{3} Street Fighter\n",
      "{4} Mortal Kombat\n",
      "{5} Elden Ring\n",
      "Spider-Man Foi adicionado no lugar!\n",
      "Voltando ao menu!\n",
      "{0} Spider-Man\n",
      "{1} Dragon Ball\n",
      "{2} GTA\n",
      "{3} Street Fighter\n",
      "{4} Mortal Kombat\n",
      "{5} Elden Ring\n",
      "Esses são todos os itens em estoque.\n"
     ]
    }
   ],
   "source": [
    "print(\"-----------------------------------------------------------------------------\")\n",
    "print(\"--------------Bem Vindo ao controle de estoque da Loja de Games--------------\")\n",
    "print(\"-----------------------------------------------------------------------------\\n\")\n",
    "\n",
    "lista_produtos = [\"God of War\", \"Dragon Ball\", \"GTA\", \"Street Fighter\", \"Mortal Kombat\"]\n",
    "\n",
    "\n",
    "\n",
    "def e_lista_produtos():\n",
    "  for i in range (len(lista_produtos)):\n",
    "    print({i + 1-1}, lista_produtos[i])\n",
    "\n",
    "      \n",
    "def add_produtos():\n",
    "  lista_produtos.append(input(\"Digite o nome que deseja adicionar no estoque:\"))\n",
    "  print(lista_produtos[-1], \"Adicionado ao estoque!\")\n",
    "  print(\"Voltando ao menu!\")\n",
    "\n",
    "def sub_produto():\n",
    "  e_lista_produtos()\n",
    "  while True:\n",
    "    try:\n",
    "      troca_prod = int(input(\"Digite o produto a ser trocado:\"))\n",
    "      novo_nome = input(\"Digite o novo nome:\")\n",
    "      lista_produtos[troca_prod] = novo_nome\n",
    "      print(novo_nome, \"Foi adicionado no lugar!\")\n",
    "      print(\"Voltando ao menu!\")\n",
    "      break\n",
    "    except:\n",
    "      print(\"Por favor siga as instruções e selecione apenas o indicado.\")\n",
    "\n",
    "while True:\n",
    "  try:\n",
    "    funcao = int(input(\"\\n------------------------------------Menu-------------------------------------\\n[1] Mostrar todos os produtos\\n[2] Adicionar um produto\\n[3] Substituir um produto\\n[0] Sair\\n\\nDigite a função que deseja: \\n\"))\n",
    "    if funcao == 1:\n",
    "      e_lista_produtos()\n",
    "      print(\"Esses são todos os itens em estoque.\")\n",
    "    elif funcao == 2:\n",
    "      add_produtos()\n",
    "    elif funcao == 3:\n",
    "      sub_produto()\n",
    "    elif funcao == 0:\n",
    "      break\n",
    "    else:\n",
    "      print(\"Por favor, digite um dos números indicados.\")\n",
    "  except:\n",
    "      print(\"Por favor siga as instruções.\")\n",
    "        "
   ]
  }
 ],
 "metadata": {
  "kernelspec": {
   "display_name": "Python 3",
   "language": "python",
   "name": "python3"
  },
  "language_info": {
   "codemirror_mode": {
    "name": "ipython",
    "version": 3
   },
   "file_extension": ".py",
   "mimetype": "text/x-python",
   "name": "python",
   "nbconvert_exporter": "python",
   "pygments_lexer": "ipython3",
   "version": "3.11.7"
  }
 },
 "nbformat": 4,
 "nbformat_minor": 2
}
