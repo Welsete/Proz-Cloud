{
 "cells": [
  {
   "cell_type": "code",
   "execution_count": 1,
   "metadata": {},
   "outputs": [
    {
     "name": "stdout",
     "output_type": "stream",
     "text": [
      "\n",
      "Nome: wellerson tavares\n",
      "Idade em 2022: 25 anos\n"
     ]
    }
   ],
   "source": [
    "def calcular_idade(ano_nascimento):\n",
    "    ano_atual = 2022  # Ano atual\n",
    "    idade = ano_atual - ano_nascimento\n",
    "    return idade\n",
    "\n",
    "def obter_nome():\n",
    "    while True:\n",
    "        nome_completo = input(\"Digite seu nome completo: \")\n",
    "        if nome_completo.strip() and not nome_completo.isdigit():\n",
    "            return nome_completo\n",
    "        else:\n",
    "            print(\"Erro: Nome não pode ser vazio ou um número. Tente novamente.\")\n",
    "\n",
    "def obter_ano_nascimento():\n",
    "    while True:\n",
    "        try:\n",
    "            ano_nascimento = int(input(\"Digite o ano de nascimento (entre 1922 e 2021): \"))\n",
    "            if 1922 <= ano_nascimento <= 2021:\n",
    "                return ano_nascimento\n",
    "            else:\n",
    "                raise ValueError(\"Ano fora do intervalo permitido.\")\n",
    "        except ValueError as e:\n",
    "            print(f\"Erro: {e}. Tente novamente.\")\n",
    "\n",
    "def main():\n",
    "    nome_completo = obter_nome()\n",
    "\n",
    "    ano_nascimento = obter_ano_nascimento()\n",
    "\n",
    "    idade = calcular_idade(ano_nascimento)\n",
    "\n",
    "    print(f\"\\nNome: {nome_completo}\")\n",
    "    print(f\"Idade em 2022: {idade} anos\")\n",
    "\n",
    "if __name__ == \"__main__\":\n",
    "    main()"
   ]
  }
 ],
 "metadata": {
  "kernelspec": {
   "display_name": "Python 3",
   "language": "python",
   "name": "python3"
  },
  "language_info": {
   "codemirror_mode": {
    "name": "ipython",
    "version": 3
   },
   "file_extension": ".py",
   "mimetype": "text/x-python",
   "name": "python",
   "nbconvert_exporter": "python",
   "pygments_lexer": "ipython3",
   "version": "3.11.7"
  }
 },
 "nbformat": 4,
 "nbformat_minor": 2
}
