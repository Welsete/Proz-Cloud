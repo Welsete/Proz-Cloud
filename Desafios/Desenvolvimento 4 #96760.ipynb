{
 "cells": [
  {
   "cell_type": "code",
   "execution_count": 1,
   "metadata": {},
   "outputs": [
    {
     "name": "stdout",
     "output_type": "stream",
     "text": [
      "Calculadora\n",
      "Bem vindo a Calculadora\n",
      "A multiplicação de 10 por 20 é igual a: 200\n"
     ]
    }
   ],
   "source": [
    "print(\"Calculadora\")\n",
    "print(\"Bem vindo a Calculadora\")\n",
    "\n",
    "numero1 = int(input(\"Digite o Primeiro Numero:\"))\n",
    "numero2 = int(input(\"Digite o Segundo Numero:\"))\n",
    "operacao = int(input(\"Digite a operação que deseja ser executada:\\n1.Soma\\n2.Subtração\\n3.Multiplicação\\n4.Divisão\\n\"))\n",
    "\n",
    "def calculadora(numero1, numero2, operacao):\n",
    "    soma = numero1 + numero2\n",
    "    subtracao = numero1 - numero2\n",
    "    multiplicacao = numero1 * numero2\n",
    "    divisao = numero1 / numero2\n",
    "\n",
    "    if operacao == 1:\n",
    "        return \"A soma de {} com {} é igual a: {}\".format(numero1, numero2, soma)\n",
    "    elif operacao == 2:\n",
    "        return \"A subtração de {} por {} é igual a: {}\".format(numero1, numero2, subtracao)\n",
    "    elif operacao == 3:\n",
    "        return \"A multiplicação de {} por {} é igual a: {}\".format(numero1, numero2, multiplicacao)\n",
    "    elif operacao == 4:\n",
    "        return \"A divisão de {} por {} é igual a: {}\".format(numero1, numero2, divisao)\n",
    "    else:\n",
    "        return \"0\"\n",
    "\n",
    "resultado = calculadora(numero1, numero2, operacao)\n",
    "print(resultado)"
   ]
  }
 ],
 "metadata": {
  "kernelspec": {
   "display_name": "Python 3",
   "language": "python",
   "name": "python3"
  },
  "language_info": {
   "codemirror_mode": {
    "name": "ipython",
    "version": 3
   },
   "file_extension": ".py",
   "mimetype": "text/x-python",
   "name": "python",
   "nbconvert_exporter": "python",
   "pygments_lexer": "ipython3",
   "version": "3.11.7"
  }
 },
 "nbformat": 4,
 "nbformat_minor": 2
}
